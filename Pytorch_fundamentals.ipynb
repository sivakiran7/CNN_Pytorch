{
  "nbformat": 4,
  "nbformat_minor": 0,
  "metadata": {
    "colab": {
      "provenance": [],
      "gpuType": "T4"
    },
    "kernelspec": {
      "name": "python3",
      "display_name": "Python 3"
    },
    "language_info": {
      "name": "python"
    },
    "accelerator": "GPU"
  },
  "cells": [
    {
      "cell_type": "markdown",
      "source": [
        "# **Pytorch fundamentals**\n",
        "\n",
        "pytorch is an sopen source machine learning framework primarily used for developing and training deep learning models based on artifical neural network it was developed by meta in 2016\n",
        "\n"
      ],
      "metadata": {
        "id": "UhyILFx9JLko"
      }
    },
    {
      "cell_type": "code",
      "execution_count": null,
      "metadata": {
        "colab": {
          "base_uri": "https://localhost:8080/"
        },
        "id": "v0yorO1vIr-C",
        "outputId": "868e45b4-5358-4f69-c3aa-7bee505331ac"
      },
      "outputs": [
        {
          "output_type": "stream",
          "name": "stdout",
          "text": [
            "Hello pytorch\n"
          ]
        }
      ],
      "source": [
        "print(\"Hello pytorch\")"
      ]
    },
    {
      "cell_type": "code",
      "source": [
        "!nvidia-smi"
      ],
      "metadata": {
        "colab": {
          "base_uri": "https://localhost:8080/"
        },
        "id": "97mlFKOLIzRq",
        "outputId": "9bc4cec2-2450-4d52-be2d-ee599a188dad"
      },
      "execution_count": null,
      "outputs": [
        {
          "output_type": "stream",
          "name": "stdout",
          "text": [
            "Sun Jul 13 04:56:34 2025       \n",
            "+-----------------------------------------------------------------------------------------+\n",
            "| NVIDIA-SMI 550.54.15              Driver Version: 550.54.15      CUDA Version: 12.4     |\n",
            "|-----------------------------------------+------------------------+----------------------+\n",
            "| GPU  Name                 Persistence-M | Bus-Id          Disp.A | Volatile Uncorr. ECC |\n",
            "| Fan  Temp   Perf          Pwr:Usage/Cap |           Memory-Usage | GPU-Util  Compute M. |\n",
            "|                                         |                        |               MIG M. |\n",
            "|=========================================+========================+======================|\n",
            "|   0  Tesla T4                       Off |   00000000:00:04.0 Off |                    0 |\n",
            "| N/A   51C    P8             10W /   70W |       0MiB /  15360MiB |      0%      Default |\n",
            "|                                         |                        |                  N/A |\n",
            "+-----------------------------------------+------------------------+----------------------+\n",
            "                                                                                         \n",
            "+-----------------------------------------------------------------------------------------+\n",
            "| Processes:                                                                              |\n",
            "|  GPU   GI   CI        PID   Type   Process name                              GPU Memory |\n",
            "|        ID   ID                                                               Usage      |\n",
            "|=========================================================================================|\n",
            "|  No running processes found                                                             |\n",
            "+-----------------------------------------------------------------------------------------+\n"
          ]
        }
      ]
    },
    {
      "cell_type": "code",
      "source": [
        "import torch\n",
        "import pandas as pd\n",
        "import numpy as np\n",
        "import matplotlib.pyplot as plt\n",
        "print(torch.__version__)"
      ],
      "metadata": {
        "colab": {
          "base_uri": "https://localhost:8080/"
        },
        "id": "RHBe3OZGJF73",
        "outputId": "e51e586a-bef8-4c0b-9fc6-341451f8e8f3"
      },
      "execution_count": 1,
      "outputs": [
        {
          "output_type": "stream",
          "name": "stdout",
          "text": [
            "2.6.0+cu124\n"
          ]
        }
      ]
    },
    {
      "cell_type": "markdown",
      "source": [
        "# introduction to tensors"
      ],
      "metadata": {
        "id": "Oa1oM24TXLmd"
      }
    },
    {
      "cell_type": "code",
      "source": [
        "\n",
        "# creating tensors\n",
        "# scalar quantity is nothing more than an integer with only one magnitude\n",
        "\n",
        "scalar = torch.tensor(7)\n",
        "scalar\n",
        "\n",
        "scalar.ndim\n",
        "# get tensor back\n",
        "scalar.item()\n",
        "\n",
        "#vector\n",
        "#A vector is a special type of tensor, specifically a first-order tensor,\n",
        "#that represents a quantity with both magnitude and direction\n",
        "\n",
        "vector=torch.tensor([7,7])\n",
        "vector\n",
        "vector.ndim\n",
        "vector.shape\n",
        "\n",
        "\n",
        "# matrix\n",
        "matrix=torch.tensor([[7,8],[9,10]])\n",
        "matrix\n",
        "matrix.ndim\n",
        "matrix[1][0]\n",
        "matrix.shape\n",
        "\n",
        "\n",
        "#tensor\n",
        "tensor=torch.tensor([[[1,2,3],[3,6,9],[2,4,5]]])\n",
        "tensor\n",
        "tensor.ndim\n",
        "tensor.shape\n",
        "tensor[0]"
      ],
      "metadata": {
        "colab": {
          "base_uri": "https://localhost:8080/"
        },
        "id": "rCX9Bb_7Kc64",
        "outputId": "32a98c57-1810-48b5-dc8f-d921fbafcabd"
      },
      "execution_count": null,
      "outputs": [
        {
          "output_type": "execute_result",
          "data": {
            "text/plain": [
              "tensor(7)"
            ]
          },
          "metadata": {},
          "execution_count": 3
        }
      ]
    },
    {
      "cell_type": "markdown",
      "source": [
        "# Random tensors\n",
        "\n",
        "why random tensors?\n",
        "\n",
        "##### Random tensors are important because the way many neaural networks learn is they start with tensors full of random numberes and then adjust those numbers to better represent data"
      ],
      "metadata": {
        "id": "VRenCxuVPpBs"
      }
    },
    {
      "cell_type": "code",
      "source": [
        "# create a random tensors\n",
        "random_tensor=torch.rand(3,4,4)\n",
        "random_tensor\n",
        "\n",
        "random_tensor.shape\n",
        "random_tensor.ndim\n",
        "#create random with similar shape to an image tensor\n",
        "random_size =torch.rand(size=(224,224,3)) # height, width, colour channel(R,G,B)\n",
        "random_size.ndim\n",
        "\n",
        "random_size.shape"
      ],
      "metadata": {
        "colab": {
          "base_uri": "https://localhost:8080/"
        },
        "id": "c44IuOq8OnJS",
        "outputId": "fca31218-5607-44b0-a857-2b3be12bef8d"
      },
      "execution_count": null,
      "outputs": [
        {
          "output_type": "execute_result",
          "data": {
            "text/plain": [
              "tensor([[[0.2380, 0.2469, 0.3757, 0.6847],\n",
              "         [0.7951, 0.3315, 0.2635, 0.1111],\n",
              "         [0.8087, 0.7189, 0.4004, 0.0467],\n",
              "         [0.6654, 0.6016, 0.9005, 0.9870]],\n",
              "\n",
              "        [[0.7013, 0.6236, 0.9832, 0.6981],\n",
              "         [0.2515, 0.6293, 0.7058, 0.4016],\n",
              "         [0.8555, 0.6294, 0.0465, 0.8154],\n",
              "         [0.3569, 0.8575, 0.1920, 0.9024]],\n",
              "\n",
              "        [[0.5490, 0.6364, 0.9703, 0.5752],\n",
              "         [0.5154, 0.1068, 0.5924, 0.6991],\n",
              "         [0.9656, 0.4076, 0.8842, 0.8736],\n",
              "         [0.5663, 0.7996, 0.5689, 0.3279]]])"
            ]
          },
          "metadata": {},
          "execution_count": 29
        }
      ]
    },
    {
      "cell_type": "markdown",
      "source": [
        "# Most common error in a tensor\n",
        "\n",
        "there are mainly 3 common errors can be araised while working with tensors\n",
        "\n",
        "1.Data type error where there is an change in data types between two tensors can cause an error\n",
        "\n",
        "2.size of an tensor can cause while multiplying with other tensors\n",
        "\n",
        "3.device of the tensor where it runs"
      ],
      "metadata": {
        "id": "FQ93nsBMrA5C"
      }
    },
    {
      "cell_type": "markdown",
      "source": [
        "# Zeroes and ones"
      ],
      "metadata": {
        "id": "ijfEUdWLSiBR"
      }
    },
    {
      "cell_type": "code",
      "source": [
        "# create zeroes and ones\n",
        "zero=torch.zeros(size=(3,4))\n",
        "zero\n",
        "\n",
        "ones=torch.ones(size=(3,4))\n",
        "ones\n",
        "\n",
        "ones.dtype"
      ],
      "metadata": {
        "colab": {
          "base_uri": "https://localhost:8080/"
        },
        "id": "SFTZdd7hUbd-",
        "outputId": "8213808b-d14f-48a0-f55a-c9a6d59fa3ad"
      },
      "execution_count": null,
      "outputs": [
        {
          "output_type": "execute_result",
          "data": {
            "text/plain": [
              "tensor([[0., 0., 0., 0.],\n",
              "        [0., 0., 0., 0.],\n",
              "        [0., 0., 0., 0.]])"
            ]
          },
          "metadata": {},
          "execution_count": 35
        }
      ]
    },
    {
      "cell_type": "markdown",
      "source": [
        "# create a name of tensors\n"
      ],
      "metadata": {
        "id": "pJJ8YYgtUvFO"
      }
    },
    {
      "cell_type": "code",
      "source": [
        "#use torch.arange to create a range of tensors\n",
        "torch.arange(start=1,end=11,step=1)\n",
        "\n",
        "# create tensors like\n",
        "input=torch.arange(start=1,end=11,step=1)\n",
        "\n",
        "ten_zeros=torch.zeros_like(input)\n",
        "ten_zeros\n",
        "\n",
        "ten_ones =torch.ones_like(input=ten_zeros)\n",
        "ten_ones"
      ],
      "metadata": {
        "colab": {
          "base_uri": "https://localhost:8080/"
        },
        "id": "kjQTvIxUVLbt",
        "outputId": "1970be6e-a131-4ddd-8f75-5bc2507d9f13"
      },
      "execution_count": null,
      "outputs": [
        {
          "output_type": "execute_result",
          "data": {
            "text/plain": [
              "tensor([ 1,  2,  3,  4,  5,  6,  7,  8,  9, 10])"
            ]
          },
          "metadata": {},
          "execution_count": 45
        }
      ]
    },
    {
      "cell_type": "markdown",
      "source": [
        "# Tensor Datatypes"
      ],
      "metadata": {
        "id": "HmVRojj3WHV7"
      }
    },
    {
      "cell_type": "code",
      "source": [
        "#create a tensor with an data type\n",
        "float_32_tensor = torch.tensor([3.0,4.0,5.0,6.0],\n",
        "                               dtype=torch.float32, # datatype of tensors to calculate the precision in computing\n",
        "                               device=None, # can be used to convert to gpu to run the code by using CUDA can be changed to cpu\n",
        "                               requires_grad=False) # used to calculating and tracking the gradients\n",
        "float_32_tensor\n",
        "float_32_tensor.dtype\n",
        "\n",
        "# precision is nothing storing the tensor in computer memory\n",
        "float_32_tensor.dtype\n",
        "print(f\"device of the tensor :{tensor.device}\")\n"
      ],
      "metadata": {
        "colab": {
          "base_uri": "https://localhost:8080/"
        },
        "id": "Z-0tC6dMYT4c",
        "outputId": "d0693373-5ba4-44db-9206-6a1ddf592c15"
      },
      "execution_count": null,
      "outputs": [
        {
          "output_type": "execute_result",
          "data": {
            "text/plain": [
              "torch.float32"
            ]
          },
          "metadata": {},
          "execution_count": 71
        }
      ]
    },
    {
      "cell_type": "markdown",
      "source": [
        "# manipulating Tensors\n"
      ],
      "metadata": {
        "id": "3K4MEbUJfvGe"
      }
    },
    {
      "cell_type": "code",
      "source": [
        "# Tensor operations :\n",
        "# matrix multiplications\n",
        "\n",
        "# create a tensor\n",
        "tensor = torch.tensor([1,2,3])\n",
        "tensor+10\n",
        "\n",
        "\n",
        "# multiply tensor\n",
        "tensor * 10\n",
        "tensor\n",
        "torch.add(tensor,10)\n",
        "torch.mul(tensor,10)\n",
        "torch.div(tensor,10)\n",
        "torch.sub(tensor,10)\n",
        "\n",
        "\n",
        "# matrxi multiplications\n",
        "\n",
        "# two ways to perform multiplications\n",
        "\n",
        "# 1. element waitstatus_to_exitcode\n",
        "# 2. matrix matrix by another matrix (dot product)\n",
        "\n",
        "# elemrnt wise multiplication\n",
        "\n",
        "print(tensor,\"*\",tensor)\n",
        "tensor * tensor\n",
        "\n",
        "# matrix multiplications\n",
        "torch.matmul(tensor,tensor) # dot product\n",
        "\n",
        "# matrix mul by normal\n",
        "1*1 + 2*2 + 3*3\n",
        "\n",
        "\n",
        "%%time\n",
        "value =0\n",
        "for i in range(len(tensor)):\n",
        "  value += tensor[i] * tensor[i]\n",
        "print(value)\n",
        "\n",
        "\n",
        "%%time\n",
        "torch.matmul(tensor,tensor) # dot product\n",
        "# common error in multiplication matrix\n",
        "# two rules to satisfy for matrix multiplication\n",
        "\n",
        "# 1.**inner dimmensions must match**\n",
        "# (3,2) @ (3,2) wont work\n",
        "# (2,3) @ (3,2) will work\n",
        "# (3,2) @ (2,3) will work\n",
        "\n",
        "\n",
        "# 2.**the resulting matrix has the shape of the outer dimension**\n",
        "# (2,3)@(3,2) -> (2,2)\n",
        "# (3,2)@(2,3) ->(3,3)\n",
        "\n",
        "\n",
        "torch.matmul(torch.rand(2,3),torch.rand(3,2))\n",
        "# shapes for matrix multiplictions\n",
        "tensor_A=torch.tensor([[1,2],\n",
        "                       [3,4],\n",
        "                       [5,6]])\n",
        "\n",
        "tensor_b=torch.tensor([[7,10],\n",
        "                       [8,11],\n",
        "                       [9,12]])\n",
        "\n",
        "\n",
        "torch.mm(tensor_A,tensor_b) # torch.mm is the same as torch.matmul\n",
        "tensor_A.shape,tensor_b.shape\n",
        "\n",
        "# to fix shape issues we can manipulate the shape of one of tensor using transpose\n",
        "\n",
        "# transpose used to switches the axies or dimensions of a given tensors\n",
        "tensor_b.T\n",
        "\n",
        "\n",
        "tensor_b\n",
        "# matrix multipliction operation works tensor_b is transposed\n",
        "\n",
        "\n",
        "torch.mm(tensor_A,tensor_b.T) # T is transpose\n",
        "tensor.shape"
      ],
      "metadata": {
        "colab": {
          "base_uri": "https://localhost:8080/"
        },
        "id": "j_UmqjXvgGTE",
        "outputId": "d153d775-5acf-474f-a654-f8286dacb1e9"
      },
      "execution_count": null,
      "outputs": [
        {
          "output_type": "execute_result",
          "data": {
            "text/plain": [
              "tensor([11, 12, 13])"
            ]
          },
          "metadata": {},
          "execution_count": 3
        }
      ]
    },
    {
      "cell_type": "markdown",
      "source": [
        "### Finding the tensor aggregation min, max, sum, mean etc"
      ],
      "metadata": {
        "id": "aFM5P8ygoDhO"
      }
    },
    {
      "cell_type": "code",
      "source": [
        "# finding a tensor\n",
        "x=torch.arange(0,10,1)\n",
        "x\n",
        "\n",
        "#finding a min\n",
        "torch.min(x), x.min()\n",
        "\n",
        "#finding a max\n",
        "torch.max(x), x.max()\n",
        "\n",
        "# finding a mean for torch.mean() it requiers a tensor of float32 datatype to work\n",
        "torch.mean(x.type(torch.float32)), x.type(torch.float32).mean()\n",
        "\n",
        "#find sum\n",
        "torch.sum(x), x.sum()"
      ],
      "metadata": {
        "colab": {
          "base_uri": "https://localhost:8080/"
        },
        "id": "oEji3iSDpyrT",
        "outputId": "30037622-07ba-49eb-a4c6-c7594aedc5e9"
      },
      "execution_count": null,
      "outputs": [
        {
          "output_type": "execute_result",
          "data": {
            "text/plain": [
              "tensor([0, 1, 2, 3, 4, 5, 6, 7, 8, 9])"
            ]
          },
          "metadata": {},
          "execution_count": 38
        }
      ]
    },
    {
      "cell_type": "markdown",
      "source": [
        "# finding the positional min and max"
      ],
      "metadata": {
        "id": "oMNv_XtisVOb"
      }
    },
    {
      "cell_type": "code",
      "source": [
        "x"
      ],
      "metadata": {
        "colab": {
          "base_uri": "https://localhost:8080/"
        },
        "id": "iPf-OEtiG7Cg",
        "outputId": "851f1b58-48ba-4ff7-ef20-d5c54c379dea"
      },
      "execution_count": null,
      "outputs": [
        {
          "output_type": "execute_result",
          "data": {
            "text/plain": [
              "tensor([0, 1, 2, 3, 4, 5, 6, 7, 8, 9])"
            ]
          },
          "metadata": {},
          "execution_count": 46
        }
      ]
    },
    {
      "cell_type": "code",
      "source": [
        "# find the position in tensor that has the minimum value with argmin() return index of the value\n",
        "x.argmin()"
      ],
      "metadata": {
        "colab": {
          "base_uri": "https://localhost:8080/"
        },
        "id": "OpkQRtgyHAPS",
        "outputId": "0fe28960-0a2c-420e-dac1-5aa404d45946"
      },
      "execution_count": null,
      "outputs": [
        {
          "output_type": "execute_result",
          "data": {
            "text/plain": [
              "tensor(0)"
            ]
          },
          "metadata": {},
          "execution_count": 47
        }
      ]
    },
    {
      "cell_type": "code",
      "source": [
        "# find the max value of the maximum value with argmax() return index of the value\n",
        "x.argmax()"
      ],
      "metadata": {
        "colab": {
          "base_uri": "https://localhost:8080/"
        },
        "id": "fyRAJKJCHCHy",
        "outputId": "86d94278-6a3a-4912-fbf1-4a3ee036c481"
      },
      "execution_count": null,
      "outputs": [
        {
          "output_type": "execute_result",
          "data": {
            "text/plain": [
              "tensor(9)"
            ]
          },
          "metadata": {},
          "execution_count": 48
        }
      ]
    },
    {
      "cell_type": "markdown",
      "source": [
        "# reshaping , stacking , squeezing and un squeezing tensors\n",
        "\n",
        "* reshapeing : reshape input tensor to a defined shape\n",
        "\n",
        "\n",
        "* view : return a view of an input tensor of certain shape but keep the same memory as the original tensor\n",
        "\n",
        "\n",
        "* stacking : combine multiple tensors on top of each other (vstack) or side by side (hstack)\n",
        "\n",
        "\n",
        "* squeeze : removes all 1 dimensions from a tensor\n",
        "\n",
        "\n",
        "* unsqueeze : add a 1 dimension to a target tensor\n",
        "\n",
        "\n",
        "* permute : return a view of the input with dimensions permuted (swapped) in a certain way\n",
        "\n",
        "\n",
        "\n"
      ],
      "metadata": {
        "id": "AGsADB87HDWj"
      }
    },
    {
      "cell_type": "code",
      "source": [
        "import torch\n",
        "x=torch.arange(1,10);\n",
        "x,x.shape"
      ],
      "metadata": {
        "colab": {
          "base_uri": "https://localhost:8080/"
        },
        "id": "R8OBslRiNL0y",
        "outputId": "6adb86b5-7ec8-43cd-c030-e762cf56a997"
      },
      "execution_count": null,
      "outputs": [
        {
          "output_type": "execute_result",
          "data": {
            "text/plain": [
              "(tensor([1, 2, 3, 4, 5, 6, 7, 8, 9]), torch.Size([9]))"
            ]
          },
          "metadata": {},
          "execution_count": 50
        }
      ]
    },
    {
      "cell_type": "code",
      "source": [
        "# add extra dimensions\n",
        "x_reshape =x.reshape(1,9) # changing the shape of the tensors\n",
        "# add extra dimensions\n",
        "x_reshape =x.reshape(3,3) # changing the shape of the tensors\n",
        "x_reshape,x_reshape.shape"
      ],
      "metadata": {
        "colab": {
          "base_uri": "https://localhost:8080/"
        },
        "id": "5PLyO1uLNS5i",
        "outputId": "37f53408-9bc7-4fb0-fa8a-e553de4ff950"
      },
      "execution_count": null,
      "outputs": [
        {
          "output_type": "execute_result",
          "data": {
            "text/plain": [
              "(tensor([[5, 2, 3],\n",
              "         [4, 5, 6],\n",
              "         [7, 8, 9]]),\n",
              " torch.Size([3, 3]))"
            ]
          },
          "metadata": {},
          "execution_count": 119
        }
      ]
    },
    {
      "cell_type": "code",
      "source": [
        "z=x.view(1,9)\n",
        "z,z.shape\n",
        "\n"
      ],
      "metadata": {
        "colab": {
          "base_uri": "https://localhost:8080/"
        },
        "id": "1F2JiBmLNnUS",
        "outputId": "26c03db1-ac37-4385-d0c7-d36ab0d4f413"
      },
      "execution_count": null,
      "outputs": [
        {
          "output_type": "execute_result",
          "data": {
            "text/plain": [
              "(tensor([[5, 2, 3, 4, 5, 6, 7, 8, 9]]), torch.Size([1, 9]))"
            ]
          },
          "metadata": {},
          "execution_count": 123
        }
      ]
    },
    {
      "cell_type": "code",
      "source": [
        "x"
      ],
      "metadata": {
        "colab": {
          "base_uri": "https://localhost:8080/"
        },
        "id": "FOinUnPlOf-B",
        "outputId": "378488a4-2563-4492-a8d9-cda18dcb2b85"
      },
      "execution_count": null,
      "outputs": [
        {
          "output_type": "execute_result",
          "data": {
            "text/plain": [
              "tensor([1, 2, 3, 4, 5, 6, 7, 8, 9])"
            ]
          },
          "metadata": {},
          "execution_count": 61
        }
      ]
    },
    {
      "cell_type": "code",
      "source": [
        "# changing z changes x (because a view of a tensor shares the same memory of the orginal)\n",
        "z[:,0]=5\n",
        "z, x"
      ],
      "metadata": {
        "colab": {
          "base_uri": "https://localhost:8080/"
        },
        "id": "m_iXteM6OyCR",
        "outputId": "8a105d9a-f497-4a74-d44e-6d79498201d8"
      },
      "execution_count": null,
      "outputs": [
        {
          "output_type": "execute_result",
          "data": {
            "text/plain": [
              "(tensor([[5, 2, 3, 4, 5, 6, 7, 8, 9]]), tensor([5, 2, 3, 4, 5, 6, 7, 8, 9]))"
            ]
          },
          "metadata": {},
          "execution_count": 66
        }
      ]
    },
    {
      "cell_type": "code",
      "source": [
        "# stack tensors on top of each other\n",
        "x_stacked = torch.stack([x,x,x,x],dim=1)\n",
        "x_stacked"
      ],
      "metadata": {
        "colab": {
          "base_uri": "https://localhost:8080/"
        },
        "id": "JJ2WWgMuPYrn",
        "outputId": "c8e0a87a-1fc9-4ced-9a09-9dfd78bbc807"
      },
      "execution_count": null,
      "outputs": [
        {
          "output_type": "execute_result",
          "data": {
            "text/plain": [
              "tensor([[5, 5, 5, 5],\n",
              "        [2, 2, 2, 2],\n",
              "        [3, 3, 3, 3],\n",
              "        [4, 4, 4, 4],\n",
              "        [5, 5, 5, 5],\n",
              "        [6, 6, 6, 6],\n",
              "        [7, 7, 7, 7],\n",
              "        [8, 8, 8, 8],\n",
              "        [9, 9, 9, 9]])"
            ]
          },
          "metadata": {},
          "execution_count": 75
        }
      ]
    },
    {
      "cell_type": "code",
      "source": [
        "# squeezing and unsquuezing\n",
        "x.squeeze() # removes all single dimensions from target tensors\n"
      ],
      "metadata": {
        "colab": {
          "base_uri": "https://localhost:8080/"
        },
        "id": "r20wYa4KPoIg",
        "outputId": "fbf2b4fa-7c32-426d-e844-ddbddf266eac"
      },
      "execution_count": null,
      "outputs": [
        {
          "output_type": "execute_result",
          "data": {
            "text/plain": [
              "tensor([5, 2, 3, 4, 5, 6, 7, 8, 9])"
            ]
          },
          "metadata": {},
          "execution_count": 90
        }
      ]
    },
    {
      "cell_type": "code",
      "source": [
        "x.shape"
      ],
      "metadata": {
        "colab": {
          "base_uri": "https://localhost:8080/"
        },
        "id": "Tph9Tbq9QZ3g",
        "outputId": "23c4a1ba-ffda-42d0-e344-06f640267cab"
      },
      "execution_count": null,
      "outputs": [
        {
          "output_type": "execute_result",
          "data": {
            "text/plain": [
              "torch.Size([9])"
            ]
          },
          "metadata": {},
          "execution_count": 91
        }
      ]
    },
    {
      "cell_type": "code",
      "source": [
        "x.unsqueeze(dim=0) # adds a single dimension to a target tensor at a specific dim"
      ],
      "metadata": {
        "colab": {
          "base_uri": "https://localhost:8080/"
        },
        "id": "Cie0hKbQQWCA",
        "outputId": "59d360c6-2112-46c0-88a9-209870f2262f"
      },
      "execution_count": null,
      "outputs": [
        {
          "output_type": "execute_result",
          "data": {
            "text/plain": [
              "tensor([[5, 2, 3, 4, 5, 6, 7, 8, 9]])"
            ]
          },
          "metadata": {},
          "execution_count": 96
        }
      ]
    },
    {
      "cell_type": "code",
      "source": [
        "x.shape"
      ],
      "metadata": {
        "colab": {
          "base_uri": "https://localhost:8080/"
        },
        "id": "8G72M4PgQ-Yw",
        "outputId": "af6eb262-bce6-40ca-8446-f98e7589f968"
      },
      "execution_count": null,
      "outputs": [
        {
          "output_type": "execute_result",
          "data": {
            "text/plain": [
              "torch.Size([9])"
            ]
          },
          "metadata": {},
          "execution_count": 97
        }
      ]
    },
    {
      "cell_type": "code",
      "source": [
        "# permute - rearrange the dimensions of a target tensor in a specific order\n",
        "x_orginal = torch.rand(size=(224,224,3)) # height, width, colour channel\n",
        "\n",
        "#permute orginal tensor to rearrange the axis order\n",
        "x_permuted = x_orginal.permute(2,0,1) # shifts axis 0->1, 1->2, 2->0\n"
      ],
      "metadata": {
        "id": "03k66nC4Q_Vg"
      },
      "execution_count": null,
      "outputs": []
    },
    {
      "cell_type": "code",
      "source": [
        "x_orginal.shape, x_permuted.shape"
      ],
      "metadata": {
        "colab": {
          "base_uri": "https://localhost:8080/"
        },
        "id": "cu_0NgqcS08w",
        "outputId": "02324613-ebb1-471e-c077-a4738ce821fc"
      },
      "execution_count": null,
      "outputs": [
        {
          "output_type": "execute_result",
          "data": {
            "text/plain": [
              "(torch.Size([224, 224, 3]), torch.Size([3, 224, 224]))"
            ]
          },
          "metadata": {},
          "execution_count": 108
        }
      ]
    },
    {
      "cell_type": "code",
      "source": [
        "x_orginal[0, 0, 0] = 234\n"
      ],
      "metadata": {
        "id": "Ia8H2_YGSaZ_"
      },
      "execution_count": null,
      "outputs": []
    },
    {
      "cell_type": "code",
      "source": [
        "x_orginal, x_permuted # permute"
      ],
      "metadata": {
        "colab": {
          "base_uri": "https://localhost:8080/"
        },
        "collapsed": true,
        "id": "Te740vvyThgu",
        "outputId": "87d864a5-67ed-430a-aead-d564061cf430"
      },
      "execution_count": null,
      "outputs": [
        {
          "output_type": "execute_result",
          "data": {
            "text/plain": [
              "(tensor([[[2.3400e+02, 4.7866e-01, 6.2784e-01],\n",
              "          [2.3400e+02, 2.5410e-01, 8.3367e-01],\n",
              "          [2.3400e+02, 2.8688e-01, 1.9612e-01],\n",
              "          ...,\n",
              "          [2.3400e+02, 9.2467e-01, 6.1643e-01],\n",
              "          [2.3400e+02, 3.6710e-01, 5.0416e-01],\n",
              "          [2.3400e+02, 1.5162e-01, 4.8700e-01]],\n",
              " \n",
              "         [[2.3400e+02, 1.0658e-01, 8.6681e-01],\n",
              "          [2.3400e+02, 7.0935e-01, 1.3886e-02],\n",
              "          [2.3400e+02, 1.3593e-01, 3.6184e-01],\n",
              "          ...,\n",
              "          [2.3400e+02, 5.8188e-01, 4.5635e-01],\n",
              "          [2.3400e+02, 5.1025e-01, 8.1207e-01],\n",
              "          [2.3400e+02, 9.8226e-01, 2.6833e-01]],\n",
              " \n",
              "         [[2.3400e+02, 7.6508e-01, 3.2351e-01],\n",
              "          [2.3400e+02, 6.1307e-01, 8.2422e-01],\n",
              "          [2.3400e+02, 4.0002e-01, 9.5718e-01],\n",
              "          ...,\n",
              "          [2.3400e+02, 7.6910e-01, 2.1592e-01],\n",
              "          [2.3400e+02, 3.4063e-01, 4.4004e-01],\n",
              "          [2.3400e+02, 7.4564e-02, 6.3152e-01]],\n",
              " \n",
              "         ...,\n",
              " \n",
              "         [[2.3400e+02, 2.2112e-01, 8.2465e-01],\n",
              "          [2.3400e+02, 3.3370e-02, 7.1685e-01],\n",
              "          [2.3400e+02, 3.2998e-01, 2.2968e-01],\n",
              "          ...,\n",
              "          [2.3400e+02, 9.4969e-01, 5.3091e-01],\n",
              "          [2.3400e+02, 8.4469e-01, 8.2967e-01],\n",
              "          [2.3400e+02, 9.5902e-01, 3.6386e-01]],\n",
              " \n",
              "         [[2.3400e+02, 5.1030e-02, 5.8747e-01],\n",
              "          [2.3400e+02, 8.1524e-01, 7.3997e-01],\n",
              "          [2.3400e+02, 1.3454e-01, 8.5402e-01],\n",
              "          ...,\n",
              "          [2.3400e+02, 4.2613e-01, 1.6785e-01],\n",
              "          [2.3400e+02, 5.1187e-01, 5.6580e-02],\n",
              "          [2.3400e+02, 4.4883e-01, 8.8729e-01]],\n",
              " \n",
              "         [[2.3400e+02, 2.6919e-01, 4.1958e-01],\n",
              "          [2.3400e+02, 2.1465e-02, 3.5432e-01],\n",
              "          [2.3400e+02, 6.3448e-01, 5.4482e-01],\n",
              "          ...,\n",
              "          [2.3400e+02, 7.9490e-02, 6.1830e-01],\n",
              "          [2.3400e+02, 4.5011e-01, 4.2530e-01],\n",
              "          [2.3400e+02, 2.4342e-01, 6.0013e-01]]]),\n",
              " tensor([[[2.3400e+02, 2.3400e+02, 2.3400e+02,  ..., 2.3400e+02,\n",
              "           2.3400e+02, 2.3400e+02],\n",
              "          [2.3400e+02, 2.3400e+02, 2.3400e+02,  ..., 2.3400e+02,\n",
              "           2.3400e+02, 2.3400e+02],\n",
              "          [2.3400e+02, 2.3400e+02, 2.3400e+02,  ..., 2.3400e+02,\n",
              "           2.3400e+02, 2.3400e+02],\n",
              "          ...,\n",
              "          [2.3400e+02, 2.3400e+02, 2.3400e+02,  ..., 2.3400e+02,\n",
              "           2.3400e+02, 2.3400e+02],\n",
              "          [2.3400e+02, 2.3400e+02, 2.3400e+02,  ..., 2.3400e+02,\n",
              "           2.3400e+02, 2.3400e+02],\n",
              "          [2.3400e+02, 2.3400e+02, 2.3400e+02,  ..., 2.3400e+02,\n",
              "           2.3400e+02, 2.3400e+02]],\n",
              " \n",
              "         [[4.7866e-01, 2.5410e-01, 2.8688e-01,  ..., 9.2467e-01,\n",
              "           3.6710e-01, 1.5162e-01],\n",
              "          [1.0658e-01, 7.0935e-01, 1.3593e-01,  ..., 5.8188e-01,\n",
              "           5.1025e-01, 9.8226e-01],\n",
              "          [7.6508e-01, 6.1307e-01, 4.0002e-01,  ..., 7.6910e-01,\n",
              "           3.4063e-01, 7.4564e-02],\n",
              "          ...,\n",
              "          [2.2112e-01, 3.3370e-02, 3.2998e-01,  ..., 9.4969e-01,\n",
              "           8.4469e-01, 9.5902e-01],\n",
              "          [5.1030e-02, 8.1524e-01, 1.3454e-01,  ..., 4.2613e-01,\n",
              "           5.1187e-01, 4.4883e-01],\n",
              "          [2.6919e-01, 2.1465e-02, 6.3448e-01,  ..., 7.9490e-02,\n",
              "           4.5011e-01, 2.4342e-01]],\n",
              " \n",
              "         [[6.2784e-01, 8.3367e-01, 1.9612e-01,  ..., 6.1643e-01,\n",
              "           5.0416e-01, 4.8700e-01],\n",
              "          [8.6681e-01, 1.3886e-02, 3.6184e-01,  ..., 4.5635e-01,\n",
              "           8.1207e-01, 2.6833e-01],\n",
              "          [3.2351e-01, 8.2422e-01, 9.5718e-01,  ..., 2.1592e-01,\n",
              "           4.4004e-01, 6.3152e-01],\n",
              "          ...,\n",
              "          [8.2465e-01, 7.1685e-01, 2.2968e-01,  ..., 5.3091e-01,\n",
              "           8.2967e-01, 3.6386e-01],\n",
              "          [5.8747e-01, 7.3997e-01, 8.5402e-01,  ..., 1.6785e-01,\n",
              "           5.6580e-02, 8.8729e-01],\n",
              "          [4.1958e-01, 3.5432e-01, 5.4482e-01,  ..., 6.1830e-01,\n",
              "           4.2530e-01, 6.0013e-01]]]))"
            ]
          },
          "metadata": {},
          "execution_count": 117
        }
      ]
    },
    {
      "cell_type": "markdown",
      "source": [
        "# indexing (selecting data from tensors)\n",
        "\n",
        "\n",
        "*  indexing with pytorch is similar to Numpy\n",
        "\n"
      ],
      "metadata": {
        "id": "cHk_dC6vTr4t"
      }
    },
    {
      "cell_type": "code",
      "source": [
        "#create a tensor\n",
        "import torch\n",
        "x=torch.arange(1,10).reshape(1,3,3)\n",
        "x"
      ],
      "metadata": {
        "id": "qtihACwlWN7r",
        "colab": {
          "base_uri": "https://localhost:8080/"
        },
        "outputId": "b5e2167c-cdca-45e1-b1b3-e817be384648"
      },
      "execution_count": 4,
      "outputs": [
        {
          "output_type": "execute_result",
          "data": {
            "text/plain": [
              "tensor([[[1, 2, 3],\n",
              "         [4, 5, 6],\n",
              "         [7, 8, 9]]])"
            ]
          },
          "metadata": {},
          "execution_count": 4
        }
      ]
    },
    {
      "cell_type": "code",
      "source": [
        "# index on tensor\n",
        "x[0]"
      ],
      "metadata": {
        "colab": {
          "base_uri": "https://localhost:8080/"
        },
        "id": "ha42WJZtZeiV",
        "outputId": "f5b67c58-da56-4e79-b7f6-1a852137866f"
      },
      "execution_count": 5,
      "outputs": [
        {
          "output_type": "execute_result",
          "data": {
            "text/plain": [
              "tensor([[1, 2, 3],\n",
              "        [4, 5, 6],\n",
              "        [7, 8, 9]])"
            ]
          },
          "metadata": {},
          "execution_count": 5
        }
      ]
    },
    {
      "cell_type": "code",
      "source": [
        "x[0][0]"
      ],
      "metadata": {
        "colab": {
          "base_uri": "https://localhost:8080/"
        },
        "id": "-mT2j2J7Zg8k",
        "outputId": "71f35bfe-36fb-44fa-d2f8-57049509d796"
      },
      "execution_count": 6,
      "outputs": [
        {
          "output_type": "execute_result",
          "data": {
            "text/plain": [
              "tensor([1, 2, 3])"
            ]
          },
          "metadata": {},
          "execution_count": 6
        }
      ]
    },
    {
      "cell_type": "code",
      "source": [
        "x[0][0][0]"
      ],
      "metadata": {
        "colab": {
          "base_uri": "https://localhost:8080/"
        },
        "id": "1ecwPvNSZg6K",
        "outputId": "0bb47c55-860a-4bbe-c922-41c091deee72"
      },
      "execution_count": 7,
      "outputs": [
        {
          "output_type": "execute_result",
          "data": {
            "text/plain": [
              "tensor(1)"
            ]
          },
          "metadata": {},
          "execution_count": 7
        }
      ]
    },
    {
      "cell_type": "code",
      "source": [
        "x[:,0]"
      ],
      "metadata": {
        "colab": {
          "base_uri": "https://localhost:8080/"
        },
        "id": "X7zAKyVlZgyB",
        "outputId": "498c5eb1-2b60-4449-8f12-3e05badab6d7"
      },
      "execution_count": 10,
      "outputs": [
        {
          "output_type": "execute_result",
          "data": {
            "text/plain": [
              "tensor([[1, 2, 3]])"
            ]
          },
          "metadata": {},
          "execution_count": 10
        }
      ]
    },
    {
      "cell_type": "code",
      "source": [
        "x[:,:,1]"
      ],
      "metadata": {
        "colab": {
          "base_uri": "https://localhost:8080/"
        },
        "id": "6eGX2tERZggD",
        "outputId": "548a1bef-d458-4b0a-edfd-3e75eadce88c"
      },
      "execution_count": 12,
      "outputs": [
        {
          "output_type": "execute_result",
          "data": {
            "text/plain": [
              "tensor([[2, 5, 8]])"
            ]
          },
          "metadata": {},
          "execution_count": 12
        }
      ]
    },
    {
      "cell_type": "markdown",
      "source": [
        "# pytorch tensors and Numpy\n",
        "\n",
        "numpy is a popular scientific python numerical computing torch.library\n",
        "pytorch has functionality to interact with it\n"
      ],
      "metadata": {
        "id": "6jF7foIuavfx"
      }
    },
    {
      "cell_type": "code",
      "source": [
        "#numpy array to tensor\n",
        "import torch\n",
        "import numpy as np\n",
        "\n",
        "array =np.arange(1.0,8.0)\n",
        "tensor = torch.from_numpy(array)\n",
        "array,tensor"
      ],
      "metadata": {
        "colab": {
          "base_uri": "https://localhost:8080/"
        },
        "id": "KydWtalscyC1",
        "outputId": "4940a123-3c99-487b-e7d3-54dbd3c73e90"
      },
      "execution_count": 13,
      "outputs": [
        {
          "output_type": "execute_result",
          "data": {
            "text/plain": [
              "(array([1., 2., 3., 4., 5., 6., 7.]),\n",
              " tensor([1., 2., 3., 4., 5., 6., 7.], dtype=torch.float64))"
            ]
          },
          "metadata": {},
          "execution_count": 13
        }
      ]
    },
    {
      "cell_type": "code",
      "source": [
        "array.dtype"
      ],
      "metadata": {
        "colab": {
          "base_uri": "https://localhost:8080/"
        },
        "id": "cQcQGk1NdIFv",
        "outputId": "eb89df4d-bdf7-408f-f7d3-d0e3a3937b4c"
      },
      "execution_count": 14,
      "outputs": [
        {
          "output_type": "execute_result",
          "data": {
            "text/plain": [
              "dtype('float64')"
            ]
          },
          "metadata": {},
          "execution_count": 14
        }
      ]
    },
    {
      "cell_type": "code",
      "source": [
        "torch.arange(1.0,8.0).dtype"
      ],
      "metadata": {
        "colab": {
          "base_uri": "https://localhost:8080/"
        },
        "id": "3BJ4VVHPdLbf",
        "outputId": "7363b42d-b7e6-485a-9dbe-7d79bae0b393"
      },
      "execution_count": 18,
      "outputs": [
        {
          "output_type": "execute_result",
          "data": {
            "text/plain": [
              "torch.float32"
            ]
          },
          "metadata": {},
          "execution_count": 18
        }
      ]
    },
    {
      "cell_type": "code",
      "source": [
        "# tensor to numpy array\n",
        "tensor=torch.ones(7)\n",
        "numpy_tensor=tensor.numpy()\n",
        "tensor,numpy_tensor"
      ],
      "metadata": {
        "colab": {
          "base_uri": "https://localhost:8080/"
        },
        "id": "xVumdO0zdN-P",
        "outputId": "85a901f4-add2-4c73-c197-b5a3422d7845"
      },
      "execution_count": 20,
      "outputs": [
        {
          "output_type": "execute_result",
          "data": {
            "text/plain": [
              "(tensor([1., 1., 1., 1., 1., 1., 1.]),\n",
              " array([1., 1., 1., 1., 1., 1., 1.], dtype=float32))"
            ]
          },
          "metadata": {},
          "execution_count": 20
        }
      ]
    },
    {
      "cell_type": "markdown",
      "source": [
        "# reproducbility of pytorch"
      ],
      "metadata": {
        "id": "DthnUMANeLWu"
      }
    },
    {
      "cell_type": "code",
      "source": [
        "# to reduce the randomness in neural networks and pytorch comes the concept of a random seed\n",
        "\n",
        "# random seed : a number used to initialize a pseudorandom number generator\n",
        "import torch\n",
        "\n",
        "random_tensor_A = torch.rand(3,4)\n",
        "random_tensor_B = torch.rand(3,4)\n",
        "\n",
        "\n",
        "print(random_tensor_A)\n",
        "print(random_tensor_B)\n",
        "print(random_tensor_A == random_tensor_B)"
      ],
      "metadata": {
        "colab": {
          "base_uri": "https://localhost:8080/"
        },
        "id": "5JR1NZ8Fep5f",
        "outputId": "06b8fbe4-5828-4360-8842-71b5ec369a84"
      },
      "execution_count": 21,
      "outputs": [
        {
          "output_type": "stream",
          "name": "stdout",
          "text": [
            "tensor([[0.4222, 0.7105, 0.3533, 0.2797],\n",
            "        [0.7962, 0.2868, 0.3150, 0.0075],\n",
            "        [0.0663, 0.8717, 0.0478, 0.9955]])\n",
            "tensor([[0.5845, 0.3421, 0.5454, 0.4578],\n",
            "        [0.3677, 0.3075, 0.5214, 0.6255],\n",
            "        [0.2935, 0.7358, 0.4026, 0.2369]])\n",
            "tensor([[False, False, False, False],\n",
            "        [False, False, False, False],\n",
            "        [False, False, False, False]])\n"
          ]
        }
      ]
    },
    {
      "cell_type": "code",
      "source": [
        "# let make a random reproducible tensor\n",
        "import torch\n",
        "\n",
        "torch.manual_seed(42)\n",
        "\n",
        "random_tensor_C = torch.rand(3,4)\n",
        "\n",
        "torch.manual_seed(42) # produces the same random values of different tensor\n",
        "random_tensor_D = torch.rand(3,4)\n",
        "\n",
        "print(random_tensor_C)\n",
        "print(random_tensor_D)\n",
        "print(random_tensor_C == random_tensor_D)"
      ],
      "metadata": {
        "colab": {
          "base_uri": "https://localhost:8080/"
        },
        "id": "2pdsiViiepzS",
        "outputId": "4ad79729-8404-4f16-b181-866ab3dfe41e"
      },
      "execution_count": 26,
      "outputs": [
        {
          "output_type": "stream",
          "name": "stdout",
          "text": [
            "tensor([[0.8823, 0.9150, 0.3829, 0.9593],\n",
            "        [0.3904, 0.6009, 0.2566, 0.7936],\n",
            "        [0.9408, 0.1332, 0.9346, 0.5936]])\n",
            "tensor([[0.8823, 0.9150, 0.3829, 0.9593],\n",
            "        [0.3904, 0.6009, 0.2566, 0.7936],\n",
            "        [0.9408, 0.1332, 0.9346, 0.5936]])\n",
            "tensor([[True, True, True, True],\n",
            "        [True, True, True, True],\n",
            "        [True, True, True, True]])\n"
          ]
        }
      ]
    },
    {
      "cell_type": "markdown",
      "source": [
        "#running tensors and pytorch objects in gpu\n",
        "\n",
        "gpu =faster computation on numbers, thanks to CUDA + NVIDIA hardware accelerator"
      ],
      "metadata": {
        "id": "gtVrNgbBga48"
      }
    },
    {
      "cell_type": "code",
      "source": [
        "# setup a gpu in colab"
      ],
      "metadata": {
        "id": "RqSuMPpNkAlB"
      },
      "execution_count": null,
      "outputs": []
    },
    {
      "cell_type": "code",
      "source": [
        "!nvidia-smi"
      ],
      "metadata": {
        "colab": {
          "base_uri": "https://localhost:8080/"
        },
        "id": "npjxbrX5kAWT",
        "outputId": "27cfb8dd-5f86-404e-8729-a684a0308ba9"
      },
      "execution_count": 1,
      "outputs": [
        {
          "output_type": "stream",
          "name": "stdout",
          "text": [
            "Mon Jul 14 06:19:27 2025       \n",
            "+-----------------------------------------------------------------------------------------+\n",
            "| NVIDIA-SMI 550.54.15              Driver Version: 550.54.15      CUDA Version: 12.4     |\n",
            "|-----------------------------------------+------------------------+----------------------+\n",
            "| GPU  Name                 Persistence-M | Bus-Id          Disp.A | Volatile Uncorr. ECC |\n",
            "| Fan  Temp   Perf          Pwr:Usage/Cap |           Memory-Usage | GPU-Util  Compute M. |\n",
            "|                                         |                        |               MIG M. |\n",
            "|=========================================+========================+======================|\n",
            "|   0  Tesla T4                       Off |   00000000:00:04.0 Off |                    0 |\n",
            "| N/A   64C    P8             10W /   70W |       0MiB /  15360MiB |      0%      Default |\n",
            "|                                         |                        |                  N/A |\n",
            "+-----------------------------------------+------------------------+----------------------+\n",
            "                                                                                         \n",
            "+-----------------------------------------------------------------------------------------+\n",
            "| Processes:                                                                              |\n",
            "|  GPU   GI   CI        PID   Type   Process name                              GPU Memory |\n",
            "|        ID   ID                                                               Usage      |\n",
            "|=========================================================================================|\n",
            "|  No running processes found                                                             |\n",
            "+-----------------------------------------------------------------------------------------+\n"
          ]
        }
      ]
    },
    {
      "cell_type": "code",
      "source": [
        "## check for gpu access with pytorch\n",
        "import torch\n",
        "torch.cuda.is_available()"
      ],
      "metadata": {
        "colab": {
          "base_uri": "https://localhost:8080/"
        },
        "id": "cZ8kePRFl545",
        "outputId": "de7827b7-c738-4f7d-8bdd-bec77a387353"
      },
      "execution_count": 2,
      "outputs": [
        {
          "output_type": "execute_result",
          "data": {
            "text/plain": [
              "True"
            ]
          },
          "metadata": {},
          "execution_count": 2
        }
      ]
    },
    {
      "cell_type": "code",
      "source": [
        "# setup device agnostic code\n",
        "device =\"cuda\"\n",
        "if torch.cuda.is_available():\n",
        "  device = torch.device(\"cuda\")\n",
        "else:\n",
        "  device = torch.device(\"cpu\")\n",
        "  print(\"not available\")"
      ],
      "metadata": {
        "id": "0PNAE-jzkAJJ"
      },
      "execution_count": 3,
      "outputs": []
    },
    {
      "cell_type": "code",
      "source": [
        "device"
      ],
      "metadata": {
        "colab": {
          "base_uri": "https://localhost:8080/"
        },
        "id": "Ov8nRZJ9mivn",
        "outputId": "f0191b2d-cd52-4d25-a876-a4e2faf52346"
      },
      "execution_count": 4,
      "outputs": [
        {
          "output_type": "execute_result",
          "data": {
            "text/plain": [
              "device(type='cuda')"
            ]
          },
          "metadata": {},
          "execution_count": 4
        }
      ]
    },
    {
      "cell_type": "code",
      "source": [
        "#count number of devices\n",
        "torch.cuda.device_count()"
      ],
      "metadata": {
        "colab": {
          "base_uri": "https://localhost:8080/"
        },
        "id": "hYy9Kbmzmo_X",
        "outputId": "8dc0848a-b0b0-4229-a844-7058b84ed63d"
      },
      "execution_count": 5,
      "outputs": [
        {
          "output_type": "execute_result",
          "data": {
            "text/plain": [
              "1"
            ]
          },
          "metadata": {},
          "execution_count": 5
        }
      ]
    },
    {
      "cell_type": "code",
      "source": [
        "#putting tensors on gpu\n",
        "tensor =torch.tensor([1,2,3])\n",
        "\n",
        "print(tensor,tensor.device)\n"
      ],
      "metadata": {
        "colab": {
          "base_uri": "https://localhost:8080/"
        },
        "id": "mULwOXF6muQX",
        "outputId": "10268af4-fc35-4d52-e184-99f45af8ed8b"
      },
      "execution_count": 3,
      "outputs": [
        {
          "output_type": "stream",
          "name": "stdout",
          "text": [
            "tensor([1, 2, 3]) cpu\n"
          ]
        }
      ]
    },
    {
      "cell_type": "code",
      "source": [
        "# move tensor to gpu\n",
        "device=\"cuda\"\n",
        "tensor_to_device =tensor.to(device)\n",
        "tensor_to_device"
      ],
      "metadata": {
        "colab": {
          "base_uri": "https://localhost:8080/"
        },
        "id": "lGFiQVVqcgUY",
        "outputId": "562f935c-91b5-4dfa-d74d-256359f5581e"
      },
      "execution_count": 5,
      "outputs": [
        {
          "output_type": "execute_result",
          "data": {
            "text/plain": [
              "tensor([1, 2, 3], device='cuda:0')"
            ]
          },
          "metadata": {},
          "execution_count": 5
        }
      ]
    },
    {
      "cell_type": "code",
      "source": [
        "# tensors back to cpu\n",
        "\n",
        "tensor_to_device.cpu().numpy()"
      ],
      "metadata": {
        "colab": {
          "base_uri": "https://localhost:8080/"
        },
        "id": "iSAYMxcAcwbX",
        "outputId": "e016f251-91e8-443e-e388-ab899a1eefd0"
      },
      "execution_count": 10,
      "outputs": [
        {
          "output_type": "execute_result",
          "data": {
            "text/plain": [
              "tensor([1, 2, 3])"
            ]
          },
          "metadata": {},
          "execution_count": 10
        }
      ]
    },
    {
      "cell_type": "code",
      "source": [
        "tensor_to_device.dtype"
      ],
      "metadata": {
        "colab": {
          "base_uri": "https://localhost:8080/"
        },
        "id": "4z_oe0IKdXHH",
        "outputId": "b55a5c10-aec9-4b9e-f2d5-6ce6a786d832"
      },
      "execution_count": 11,
      "outputs": [
        {
          "output_type": "execute_result",
          "data": {
            "text/plain": [
              "torch.int64"
            ]
          },
          "metadata": {},
          "execution_count": 11
        }
      ]
    },
    {
      "cell_type": "code",
      "source": [],
      "metadata": {
        "id": "Z0WC6FbVdz82"
      },
      "execution_count": null,
      "outputs": []
    }
  ]
}